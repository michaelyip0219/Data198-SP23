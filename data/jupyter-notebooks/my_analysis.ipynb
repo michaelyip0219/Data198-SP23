{
 "cells": [
  {
   "cell_type": "markdown",
   "id": "5c73719c",
   "metadata": {},
   "source": [
    "[Data 198] Assignment 0 - Git Activity"
   ]
  },
  {
   "cell_type": "code",
   "execution_count": 3,
   "id": "dd42a27f",
   "metadata": {},
   "outputs": [],
   "source": [
    "import numpy\n",
    "import pandas\n",
    "import matplotlib"
   ]
  },
  {
   "cell_type": "code",
   "execution_count": null,
   "id": "a71be0bb",
   "metadata": {},
   "outputs": [],
   "source": []
  }
 ],
 "metadata": {
  "kernelspec": {
   "display_name": "Python 3 (ipykernel)",
   "language": "python",
   "name": "python3"
  },
  "language_info": {
   "codemirror_mode": {
    "name": "ipython",
    "version": 3
   },
   "file_extension": ".py",
   "mimetype": "text/x-python",
   "name": "python",
   "nbconvert_exporter": "python",
   "pygments_lexer": "ipython3",
   "version": "3.9.6"
  }
 },
 "nbformat": 4,
 "nbformat_minor": 5
}
